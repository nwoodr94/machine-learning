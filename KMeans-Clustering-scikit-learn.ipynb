{
 "cells": [
  {
   "cell_type": "code",
   "execution_count": 16,
   "metadata": {},
   "outputs": [
    {
     "data": {
      "image/png": "[encoded data removed]",
      "text/plain": [
       "<Figure size 576x216 with 10 Axes>"
      ]
     },
     "metadata": {
      "needs_background": "light"
     },
     "output_type": "display_data"
    },
    {
     "name": "stdout",
     "output_type": "stream",
     "text": [
      "Human Wrote:\n",
      "2045\n",
      "KMeans Interpreted: \n",
      "7015"
     ]
    }
   ],
   "source": [
    "import numpy as np\n",
    "from matplotlib import pyplot as plt\n",
    "from sklearn import datasets\n",
    "from sklearn.cluster import KMeans\n",
    "\n",
    "\n",
    "digits = datasets.load_digits()\n",
    "\n",
    "#initialize KMeans model and train it on the dataset\n",
    "model = KMeans(n_clusters = 10, random_state = 42)\n",
    "model.fit(digits.data)\n",
    "\n",
    "#create a figure to visualize digit clusters\n",
    "fig = plt.figure(figsize=(8,3))\n",
    "fig.suptitle(\"Cluster Map\")\n",
    "\n",
    "for i in range(10):\n",
    "    ax = fig.add_subplot(2, 5, 1 + i)\n",
    "    ax.imshow(model.cluster_centers_[i].reshape((8, 8)), cmap=plt.cm.binary)\n",
    "\n",
    "plt.show()\n",
    "\n",
    "# draw \"2 0 4 5\" in widget to generate bitmap array\n",
    "new_samples = np.array([\n",
    "[0.00,0.08,1.52,1.52,0.76,0.00,0.00,0.00,0.00,1.75,6.48,6.25,7.47,4.79,0.00,0.00,0.00,0.00,0.00,0.00,1.22,7.61,0.61,0.00,0.00,0.00,0.00,0.00,5.33,5.41,0.00,0.00,0.00,0.00,0.00,3.13,6.94,0.53,0.00,0.00,0.00,0.38,4.03,7.47,1.98,0.00,0.00,0.00,0.00,7.16,7.09,7.01,7.62,6.94,5.18,0.00,0.00,0.00,0.00,0.00,0.38,0.76,0.46,0.00],\n",
    "[0.00,0.00,0.00,0.00,0.00,0.00,0.00,0.00,0.00,0.00,1.67,4.17,4.27,0.23,0.00,0.00,0.00,2.36,7.31,5.41,7.47,5.72,1.10,0.00,0.00,4.72,3.74,0.00,0.69,4.55,6.78,0.00,0.00,5.32,2.75,0.00,0.00,0.23,7.61,0.61,0.00,4.50,5.72,2.36,0.77,4.05,6.25,0.00,0.00,0.46,4.27,6.26,7.62,6.78,1.83,0.00,0.00,0.00,0.00,0.00,0.00,0.00,0.00,0.00],\n",
    "[0.00,0.00,0.00,0.00,0.00,0.00,0.00,0.00,0.00,0.00,0.00,3.35,5.71,1.14,0.00,0.00,0.00,0.00,4.04,7.09,4.80,4.57,0.00,0.00,0.00,3.27,7.62,4.96,5.93,3.81,0.00,0.00,0.00,2.51,4.57,3.81,6.08,3.05,0.00,0.00,0.00,0.00,0.00,0.00,5.10,2.90,0.00,0.00,0.00,0.00,0.00,0.00,5.33,2.29,0.00,0.00,0.00,0.00,0.00,0.00,1.37,0.46,0.00,0.00],\n",
    "[0.00,0.00,0.00,0.00,0.00,0.00,0.00,0.00,0.00,1.90,4.56,4.71,6.24,4.34,0.00,0.00,0.00,4.56,5.31,3.80,2.67,1.04,0.00,0.00,0.00,4.56,5.78,4.18,2.20,0.15,0.00,0.00,0.00,1.80,3.80,4.64,6.90,5.55,0.00,0.00,0.00,0.00,0.00,0.15,3.85,6.70,0.00,0.00,0.00,0.53,3.96,6.39,6.63,2.06,0.00,0.00,0.00,0.59,4.41,3.07,0.36,0.00,0.00,0.00]\n",
    "])\n",
    "print(\"Human Wrote:\")\n",
    "print(\"2045\")\n",
    "\n",
    "# predict sample digits and map them to clusters\n",
    "new_labels = model.predict(new_samples)\n",
    "print(\"KMeans Interpreted: \")\n",
    "for i in range(len(new_labels)):\n",
    "    if new_labels[i] == 0:\n",
    "        print(0, end='')\n",
    "    elif new_labels[i] == 1:\n",
    "        print(9, end='')\n",
    "    elif new_labels[i] == 2:\n",
    "        print(2, end='')\n",
    "    elif new_labels[i] == 3:\n",
    "        print(1, end='')\n",
    "    elif new_labels[i] == 4:\n",
    "        print(6, end='')\n",
    "    elif new_labels[i] == 5:\n",
    "        print(8, end='')\n",
    "    elif new_labels[i] == 6:\n",
    "        print(4, end='')\n",
    "    elif new_labels[i] == 7:\n",
    "        print(5, end='')\n",
    "    elif new_labels[i] == 8:\n",
    "        print(7, end='')\n",
    "    elif new_labels[i] == 9:\n",
    "        print(3, end='')"
   ]
  }
 ],
 "metadata": {
  "kernelspec": {
   "display_name": "Python 3",
   "language": "python",
   "name": "python3"
  },
  "language_info": {
   "codemirror_mode": {
    "name": "ipython",
    "version": 3
   },
   "file_extension": ".py",
   "mimetype": "text/x-python",
   "name": "python",
   "nbconvert_exporter": "python",
   "pygments_lexer": "ipython3",
   "version": "3.5.3"
  }
 },
 "nbformat": 4,
 "nbformat_minor": 2
}
