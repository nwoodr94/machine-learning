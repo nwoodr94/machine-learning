{
 "cells": [
  {
   "cell_type": "code",
   "execution_count": 30,
   "metadata": {},
   "outputs": [
    {
     "name": "stderr",
     "output_type": "stream",
     "text": [
      "/home/nwoodr94/.local/lib/python3.5/site-packages/ipykernel_launcher.py:7: ParserWarning: Falling back to the 'python' engine because the 'c' engine does not support regex separators (separators > 1 char and different from '\\s+' are interpreted as regex); you can avoid this warning by specifying engine='python'.\n",
      "  import sys\n",
      "/usr/local/lib/python3.5/dist-packages/sklearn/ensemble/forest.py:246: FutureWarning: The default value of n_estimators will change from 10 in version 0.20 to 100 in 0.22.\n",
      "  \"10 in version 0.20 to 100 in 0.22.\", FutureWarning)\n"
     ]
    },
    {
     "name": "stdout",
     "output_type": "stream",
     "text": [
      "Accuracy:  0.8212750276378823\n"
     ]
    }
   ],
   "source": [
    "import pandas as pd\n",
    "import numpy as np\n",
    "from sklearn.model_selection import train_test_split\n",
    "from sklearn import tree\n",
    "from sklearn.ensemble import RandomForestClassifier\n",
    "\n",
    "income_data = pd.read_csv(\"income.csv\", delimiter=\", \", header=0)\n",
    "\n",
    "# clean data and isolate Americans\n",
    "income_data['income'] = income_data['income'].apply(lambda row: 0 if row=='<=50K' else 1)\n",
    "income_data['sex'] = income_data['sex'].apply(lambda row: 0 if row=='Male' else 1)\n",
    "income_data['native-country'] = income_data['native-country'].apply(lambda row: 0 if row=='United-States' else 1)\n",
    "\n",
    "# select test label and data\n",
    "income = income_data[\"income\"]\n",
    "data = income_data[[\"age\", \"capital-gain\", \"capital-loss\", \"hours-per-week\", \"native-country\"]]\n",
    "\n",
    "\n",
    "# train test split\n",
    "train_data, test_data, train_labels, test_labels = train_test_split(data, income, random_state=1)\n",
    "\n",
    "\n",
    "# initialize, fit, and score random forest\n",
    "forest = RandomForestClassifier(random_state=1)\n",
    "forest.fit(train_data, train_labels)\n",
    "score = forest.score(test_data, test_labels)\n",
    "print(\"Accuracy: \", score)"
   ]
  }
 ],
 "metadata": {
  "kernelspec": {
   "display_name": "Python 3",
   "language": "python",
   "name": "python3"
  },
  "language_info": {
   "codemirror_mode": {
    "name": "ipython",
    "version": 3
   },
   "file_extension": ".py",
   "mimetype": "text/x-python",
   "name": "python",
   "nbconvert_exporter": "python",
   "pygments_lexer": "ipython3",
   "version": "3.5.3"
  }
 },
 "nbformat": 4,
 "nbformat_minor": 2
}
