{
 "cells": [
  {
   "cell_type": "code",
   "execution_count": 13,
   "metadata": {},
   "outputs": [
    {
     "name": "stdout",
     "output_type": "stream",
     "text": [
      "Coefficients[Sex, Age, FirstClass, SecondClass]:  [[ 1.17808183 -0.49030254  0.9062946   0.39295216]]\n",
      "Survival Rate[Died, Lived]:  [[0.85421197 0.14578803]]\n"
     ]
    },
    {
     "name": "stderr",
     "output_type": "stream",
     "text": [
      "/usr/local/lib/python3.5/dist-packages/sklearn/preprocessing/data.py:625: DataConversionWarning: Data with input dtype int64, float64 were all converted to float64 by StandardScaler.\n",
      "  return self.partial_fit(X, y)\n",
      "/usr/local/lib/python3.5/dist-packages/sklearn/base.py:462: DataConversionWarning: Data with input dtype int64, float64 were all converted to float64 by StandardScaler.\n",
      "  return self.fit(X, **fit_params).transform(X)\n",
      "/home/nwoodr94/.local/lib/python3.5/site-packages/ipykernel_launcher.py:26: DataConversionWarning: Data with input dtype int64, float64 were all converted to float64 by StandardScaler.\n",
      "/usr/local/lib/python3.5/dist-packages/sklearn/linear_model/logistic.py:433: FutureWarning: Default solver will be changed to 'lbfgs' in 0.22. Specify a solver to silence this warning.\n",
      "  FutureWarning)\n"
     ]
    }
   ],
   "source": [
    "import pandas as pd\n",
    "import numpy as np\n",
    "import matplotlib.pyplot as plt\n",
    "from sklearn.linear_model import LogisticRegression\n",
    "from sklearn.model_selection import train_test_split\n",
    "from sklearn.preprocessing import StandardScaler\n",
    "\n",
    "\n",
    "passengers = pd.read_csv('passengers.csv')\n",
    "\n",
    "passengers['Sex'] = passengers['Sex'].map({'male': 0, 'female': 1})\n",
    "passengers['Age'].fillna(value=round(passengers['Age'].mean()), inplace=True)\n",
    "passengers['FirstClass'] = passengers['Pclass'].apply(lambda x: 1 if x==1 else 0)\n",
    "passengers['SecondClass'] = passengers['Pclass'].apply(lambda x: 1 if x==2 else 0)\n",
    "\n",
    "# select features and data\n",
    "features = passengers[['Sex', 'Age', 'FirstClass', 'SecondClass']]\n",
    "survival = passengers['Survived']\n",
    "\n",
    "# split train and test data\n",
    "train_data, test_data, train_labels, test_labels = train_test_split(features, survival)\n",
    "\n",
    "# scale the distribution so the logistic regression works correctly\n",
    "scaler = StandardScaler()\n",
    "train_data = scaler.fit_transform(train_data)\n",
    "test_data = scaler.transform(test_data)\n",
    "\n",
    "\n",
    "# initialize the logistic regression \n",
    "model = LogisticRegression()\n",
    "model.fit(train_data, train_labels)\n",
    "\n",
    "# train the model\n",
    "train = model.score(train_data, train_labels)\n",
    "\n",
    "# score the model on the test data\n",
    "test = model.score(test_data, test_labels)\n",
    "\n",
    "# analyze the coefficients\n",
    "coefficients = model.coef_\n",
    "print(\"Coefficients[Sex, Age, FirstClass, SecondClass]: \", coefficients)\n",
    "\n",
    "\n",
    "# sample passenger features\n",
    "Jack = np.array([0.0,20.0,0.0,0.0])\n",
    "Rose = np.array([1.0,17.0,1.0,0.0])\n",
    "Me = np.array([0.0,24.0,0.0,0.1]).reshape(1, -1)\n",
    "\n",
    "sample_passengers = np.array([Jack, Rose, Me])\n",
    "\n",
    "# scale the sample passenger features\n",
    "sample_passengers = scaler.transform(Me)\n",
    "\n",
    "# make survival predictions\n",
    "predictions = model.predict_proba(sample_passengers)\n",
    "print(\"Survival Rate[Died, Lived]: \", predictions)\n"
   ]
  }
 ],
 "metadata": {
  "kernelspec": {
   "display_name": "Python 3",
   "language": "python",
   "name": "python3"
  },
  "language_info": {
   "codemirror_mode": {
    "name": "ipython",
    "version": 3
   },
   "file_extension": ".py",
   "mimetype": "text/x-python",
   "name": "python",
   "nbconvert_exporter": "python",
   "pygments_lexer": "ipython3",
   "version": "3.5.3"
  }
 },
 "nbformat": 4,
 "nbformat_minor": 2
}
